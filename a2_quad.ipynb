{
 "cells": [
  {
   "cell_type": "code",
   "execution_count": 1,
   "metadata": {},
   "outputs": [],
   "source": [
    "#!/usr/bin/env python3\n",
    "\n",
    "import cmath\n",
    "\n",
    "def solve_quadratic_equation(a, b, c):\n",
    "    # Find the discriminant\n",
    "    delta = (b**2) - 4*(a*c)\n",
    "\n",
    "    # If the discriminant is positive, there are two distinct real roots\n",
    "    if delta > 0:\n",
    "        x1 = (-b - delta**0.5) / (2*a)\n",
    "        x2 = (-b + delta**0.5) / (2*a)\n",
    "        return x1, x2\n",
    "\n",
    "    # If the discriminant is zero, there is exactly one real root\n",
    "    if delta == 0:\n",
    "        x = (-b - delta**0.5) / (2*a)\n",
    "        return x\n",
    "\n",
    "    # If the discriminant is negative, there are two complex roots\n",
    "    if delta < 0:\n",
    "        x1 = (-b - cmath.sqrt(delta)) / (2 * a)\n",
    "        x2 = (-b + cmath.sqrt(delta)) / (2 * a)\n",
    "        return x1, x2\n"
   ]
  },
  {
   "cell_type": "code",
   "execution_count": null,
   "metadata": {},
   "outputs": [],
   "source": []
  }
 ],
 "metadata": {
  "kernelspec": {
   "display_name": "Python 3",
   "language": "python",
   "name": "python3"
  },
  "language_info": {
   "codemirror_mode": {
    "name": "ipython",
    "version": 3
   },
   "file_extension": ".py",
   "mimetype": "text/x-python",
   "name": "python",
   "nbconvert_exporter": "python",
   "pygments_lexer": "ipython3",
   "version": "3.13.1"
  }
 },
 "nbformat": 4,
 "nbformat_minor": 2
}
